{
  "cells": [
    {
      "cell_type": "markdown",
      "metadata": {
        "id": "lzFsq1tP1d5s"
      },
      "source": [
        "# Create Dicom Group and convert into Nifti Files"
      ]
    },
    {
      "cell_type": "code",
      "execution_count": null,
      "metadata": {
        "id": "aar4-By0HiBS"
      },
      "outputs": [],
      "source": [
        "import shutil\n",
        "import os\n",
        "from glob import glob\n",
        "import dicom2nifti\n",
        "from tqdm import tqdm\n",
        "import nibabel as nib\n",
        "import numpy as np\n",
        "import dicom2nifti.settings as settings"
      ]
    },
    {
      "cell_type": "code",
      "execution_count": null,
      "metadata": {
        "id": "uCiLsUJW15AL"
      },
      "outputs": [],
      "source": [
        "settings.validate_instance_number = False\n",
        "slice_increment_inconsistent = False"
      ]
    },
    {
      "cell_type": "markdown",
      "metadata": {
        "id": "BK-xEaJ51FlL"
      },
      "source": [
        " ## Creating dicom folders\n",
        "\n",
        "The first step is to create dicom folders. This function creates the dicom folders containing the group of fixed number of dicom files(slices).\n",
        "\n",
        "`in_dir`: the path to your folders that contain dicom files.\n",
        "\n",
        "`out_dir`: the path where you want to put the converted nifti files.\n",
        "\n",
        " `Number_slices`: number of slices that you need for your project and it will\n",
        "create groups with this number."
      ]
    },
    {
      "cell_type": "code",
      "execution_count": null,
      "metadata": {
        "id": "Y8wLYHBJHqgY"
      },
      "outputs": [],
      "source": [
        "def create_groups(in_dir, out_dir, number_slices):\n",
        "      for patient in glob(in_dir + '/*'):\n",
        "\n",
        "        patient_name = os.path.basename(os.path.normpath(patient))\n",
        "\n",
        "        # calculate the number of folders each with number_slices of dicom files belonging to same patient\n",
        "\n",
        "        number_folders = int(len(glob(patient + '/*')) / number_slices)\n",
        "        # print(number_folders)\n",
        "\n",
        "        for i in range(number_folders):\n",
        "            output_path = os.path.join(out_dir, patient_name + '_' + str(i))\n",
        "            os.mkdir(output_path)\n",
        "\n",
        "            # Move the slices into a specific folder\n",
        "            dicom_files = glob(patient + '/*')\n",
        "            for j, file in enumerate(dicom_files[i*number_slices:]):\n",
        "                if j == number_slices:\n",
        "                    break\n",
        "\n",
        "                shutil.copy(file, output_path)"
      ]
    },
    {
      "cell_type": "code",
      "execution_count": null,
      "metadata": {
        "id": "wPUqGcItuVJ9"
      },
      "outputs": [],
      "source": [
        "import math\n",
        "\n",
        "in_path_images =  \"/content/drive/Spleen-Segmentation/Data/Images/\"\n",
        "out_path_images = \"/content/drive/Spleen-Segmentation/NewDicomFiles/Images\"\n",
        "\n",
        "\n",
        "for patient in glob(in_path_images+'/*'):\n",
        "    patient_name=os.path.basename(os.path.normpath(patient))\n",
        "    l_o_i=glob(patient+'/*')\n",
        "    number_of_loops=math.ceil(len(l_o_i)/40)\n",
        "    print(number_of_loops)\n",
        "    for i in range(0,number_of_loops):\n",
        "        output_path_name=os.path.join(out_path_images,patient_name+'_'+str(i)) #having folder as label_0_0, label_0_1 subgroups of 0\n",
        "        os.mkdir(output_path_name)\n",
        "        try:\n",
        "            result=l_o_i[i*40:i*40+40]\n",
        "        except:\n",
        "            # result=l_o_i[i*32:len(l_o_i)]\n",
        "            pass\n",
        "        for file in result:\n",
        "            file_name=os.path.basename(file)\n",
        "            # print(output_path_name)\n",
        "            shutil.copy(file,str(output_path_name)+'/'+file_name)\n",
        "        print('\\n-------------------------------')"
      ]
    },
    {
      "cell_type": "markdown",
      "metadata": {},
      "source": [
        "## Creation of dicom groups of fixed number of slices for images and labels\n"
      ]
    },
    {
      "cell_type": "code",
      "execution_count": null,
      "metadata": {
        "id": "I6b5VMQlJN1E"
      },
      "outputs": [],
      "source": [
        "# source folder containing dicom files for images and labels\n",
        "dicom_files_image_path =  \"/content/drive/Spleen-Segmentation/Data/Images/\"\n",
        "dicom_files_label_path =  \"/content/drive/Spleen-Segmentation/Data/Labels\"\n",
        "\n",
        "# destination folders to store dicom groups for images and labels\n",
        "dicom_groups_image_path = \"/content/drive/Spleen-Segmentation/DicomGroup/Images\"\n",
        "# dicom_groups_label_path = \"/content/drive/MyDrive/DicomGroup/Labels\"\n",
        "\n",
        "# create groups of image dicom files\n",
        "create_groups(dicom_files_image_path, dicom_groups_image_path, number_slices=40)\n",
        "print(\"Creating Dicom Groups from Image dicoms completed!!\\n\")\n",
        "\n",
        "# create groups of label dicom files\n",
        "create_groups(dicom_files_label_path, dicom_groups_label_path, number_slices=40)\n",
        "print(\"Creating Dicom Groups from Label dicoms completed!!\\n\")"
      ]
    },
    {
      "cell_type": "code",
      "execution_count": null,
      "metadata": {
        "id": "EzPNhruSJ_v1"
      },
      "outputs": [],
      "source": [
        "in_path_images = '/content/drive/Spleen-Segmentation/DicomGroup/Images/*'\n",
        "# in_path_labels = 'C:/Users/Epoch/Downloads/Task09_Spleens/dicom_groups/Labels/*'\n",
        "out_path_images = '/content/drive/Spleen-Segmentation/nifti files/Images'\n",
        "# out_path_labels = 'C:/Users/Epoch/Downloads/Task09_Spleens/nifti_files/Labels'\n",
        "\n",
        "list_images = glob(in_path_images)\n",
        "# list_labels = glob(in_path_labels)"
      ]
    },
    {
      "cell_type": "code",
      "execution_count": null,
      "metadata": {
        "id": "SL1uJfaquPy1"
      },
      "outputs": [],
      "source": [
        "for patient in list_images:\n",
        "    patient_name = os.path.basename(os.path.normpath(patient))\n",
        "    dicom2nifti.dicom_series_to_nifti(patient, os.path.join(out_path_images, patient_name +'.nii.gz'))"
      ]
    },
    {
      "cell_type": "code",
      "execution_count": null,
      "metadata": {
        "id": "DlAvIDGsupkd"
      },
      "outputs": [],
      "source": []
    },
    {
      "cell_type": "markdown",
      "metadata": {
        "id": "3sDE6WJ-1sFc"
      },
      "source": [
        "## Converting Dicom groups to nifties\n",
        "\n",
        "This function will be used to convert dicoms folder into nifti files after creating the groups with the number of slices that you want.\n",
        "\n",
        "  `in_dir`: the path to the folder where you have all the patients (folder of all the groups).\n",
        "\n",
        "  `out_dir`: the path to the output where you want to save the converted nifties.\n",
        "  "
      ]
    },
    {
      "cell_type": "code",
      "execution_count": null,
      "metadata": {
        "id": "FRzHZsze1s--"
      },
      "outputs": [],
      "source": [
        "def dcm2nifti(in_dir, out_dir):\n",
        "\n",
        "    print(glob(in_dir + '/*'))\n",
        "    for folder in tqdm(glob(in_dir + '/*')):\n",
        "      print(folder)\n",
        "      patient_name = os.path.basename(os.path.normpath(folder))\n",
        "      print(patient_name)\n",
        "      dicom2nifti.dicom_series_to_nifti(folder, os.path.join(out_dir, patient_name + '.nii.gz'))\n",
        "\n",
        "      # dicom2nifti.convert_directory(folder, os.path.join(out_dir, patient_name + '.nii.gz'))`\n"
      ]
    },
    {
      "cell_type": "code",
      "execution_count": null,
      "metadata": {
        "id": "TdLyRa_N1-D2"
      },
      "outputs": [],
      "source": [
        "def rename_slices(in_dir):\n",
        "  for folder in tqdm(glob(in_dir + '/*')):\n",
        "    i = 0\n",
        "    path = folder\n",
        "    for file in glob(folder + '/*'):\n",
        "      src = os.path.join(path,file)\n",
        "      dest = os.path.join(path, \"IMG000\"+ str(200+i)+\".dcm\")\n",
        "      os.rename(src, dest)\n",
        "      i += 1\n",
        "      # print(src, dest)\n"
      ]
    },
    {
      "cell_type": "code",
      "execution_count": null,
      "metadata": {
        "id": "PcM_7Bk52ANj"
      },
      "outputs": [],
      "source": [
        "import dicom2nifti.settings as settings\n",
        "\n",
        "settings. disable_validate_sliceincrement()"
      ]
    },
    {
      "cell_type": "code",
      "execution_count": null,
      "metadata": {
        "id": "vnvBWPiU2EQB"
      },
      "outputs": [],
      "source": []
    },
    {
      "cell_type": "markdown",
      "metadata": {
        "id": "Ot8W4c-q2EuH"
      },
      "source": [
        "## Conversion of dicom groups to nifti format for images and labels\n"
      ]
    },
    {
      "cell_type": "code",
      "execution_count": null,
      "metadata": {
        "id": "_IAU3vHY2I6L"
      },
      "outputs": [],
      "source": [
        "# source folders of dicom groups for images and labels\n",
        "dicom_groups_image_path = \"/content/drive/MyDrive/DicomGroup/Images/\"\n",
        "dicom_groups_label_path = \"/content/drive/MyDrive/DicomGroup/Labels/\"\n",
        "\n",
        "# Destination folder to store nifti files for images and labels\n",
        "nifti_files_image_path = \"/content/drive/MyDrive/NiftiFiles/TrainImages\"\n",
        "nifti_files_label_path = \"/content/drive/MyDrive/NiftiFiles/TrainLabels\"\n",
        "\n",
        "dcm2nifti(dicom_groups_image_path, nifti_files_image_path)\n",
        "print(\"Conversion from Image Dicom Groups to Nifti files completed!!\\n\")"
      ]
    }
  ],
  "metadata": {
    "colab": {
      "provenance": []
    },
    "kernelspec": {
      "display_name": "Python 3",
      "name": "python3"
    },
    "language_info": {
      "name": "python"
    }
  },
  "nbformat": 4,
  "nbformat_minor": 0
}
